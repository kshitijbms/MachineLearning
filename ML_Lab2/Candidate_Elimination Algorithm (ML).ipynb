{
 "cells": [
  {
   "cell_type": "markdown",
   "metadata": {},
   "source": [
    "# Candidate Elimination algorithm\n",
    "<p>The candidate elimination algorithm incrementally builds \n",
    "the version space given a hypothesis space H and a set E of examples. \n",
    "The examples are added one by one; each example possibly shrinks the version \n",
    "space by removing the hypotheses that are inconsistent with the example. \n",
    "The candidate elimination algorithm does this by updating the general and \n",
    "specific boundary for each new example. \n",
    "</p>"
   ]
  },
  {
   "cell_type": "code",
   "execution_count": 1,
   "metadata": {},
   "outputs": [
    {
     "name": "stdout",
     "output_type": "stream",
     "text": [
      "The Data Set is: \n",
      "['Sky', 'Airtemp', 'Humidity', 'Wind', 'Water', 'Forecast', 'Enjoysport']\n",
      "['Sunny', 'Warm', 'Normal', 'Strong', 'Warm', 'Same', 'Yes']\n",
      "['Sunny', 'Warm', 'High', 'Strong', 'Warm', 'Same', 'Yes']\n",
      "['Rainy', 'Cold', 'High', 'Strong', 'Warm', 'Change', 'No']\n",
      "['Sunny', 'Warm', 'High', 'Strong', 'Cool', 'Change', 'Yes']\n",
      "--------------------\n",
      "S0=  ['0', '0', '0', '0', '0', '0']\n",
      "G0=  ['?', '?', '?', '?', '?', '?']\n",
      "--------------------\n",
      "S 1 =  ['Sunny', 'Warm', 'Normal', 'Strong', 'Warm', 'Same']\n",
      "G 1  = ['?', '?', '?', '?', '?', '?']\n",
      "-----------------\n",
      "S 2 =  ['Sunny', 'Warm', '?', 'Strong', 'Warm', 'Same']\n",
      "G 2  = ['?', '?', '?', '?', '?', '?']\n",
      "-----------------\n",
      "S 3 =  ['Sunny', 'Warm', '?', 'Strong', 'Warm', 'Same']\n",
      "G 3  = [['Sunny', '?', '?', '?', '?', '?'], ['?', 'Warm', '?', '?', '?', '?'], ['?', '?', '?', '?', '?', 'Same']]\n",
      "-----------------\n",
      "S 4 =  ['Sunny', 'Warm', '?', 'Strong', '?', '?']\n",
      "G 4  = [['Sunny', '?', '?', '?', '?', '?'], ['?', 'Warm', '?', '?', '?', '?']]\n",
      "-----------------\n"
     ]
    }
   ],
   "source": [
    "import csv \n",
    "data=[]\n",
    "print(\"The Data Set is: \")\n",
    "with open(\"enjoysport.csv\",'r') as csvfile :\n",
    "          fdata = csv.reader(csvfile) \n",
    "          for x in fdata:\n",
    "                data.append(x) \n",
    "                print(x)\n",
    "num_att = len(data[0]) - 1 \n",
    "print('--------------------')\n",
    "S = ['0']*num_att    #Specific Boundary\n",
    "G = ['?']*num_att  #General Boundary\n",
    "print(\"S0= \",S) \n",
    "print(\"G0= \",G) \n",
    "temp = []\n",
    "\n",
    "for i in range(0, num_att):\n",
    "    S[i] = data[1][i] \n",
    "print('--------------------')\n",
    "\n",
    "for i in range(1, len(data)):\n",
    "    if data[i][num_att] == 'Yes':\n",
    "            for j in range(0, num_att):\n",
    "                if S[j]!=data[i][j]:\n",
    "                    S[j]='?'\n",
    "            for j in range(0, num_att):\n",
    "                for k in range(0, len(temp)):\n",
    "                    if temp[k][j]!=S[j] and temp[k][j]!='?':\n",
    "                        del temp[k]\n",
    "    if data[i][num_att] == 'No':\n",
    "        for j in range(0, num_att): \n",
    "            if data [i][j]!=S[j] and S[j]!='?':\n",
    "                 G[j] = S[j] \n",
    "                 temp.append(G) \n",
    "                 G = ['?']*num_att \n",
    "\n",
    "         \n",
    "    print(\"S\",i,\"= \",S) \n",
    "         \n",
    "    if len(temp)==0:\n",
    "             print (\"G\",i,\" =\",G) \n",
    "    else: \n",
    "             print(\"G\",i,\" =\",temp) \n",
    "    print(\"-----------------\")"
   ]
  }
 ],
 "metadata": {
  "kernelspec": {
   "display_name": "Python 3",
   "language": "python",
   "name": "python3"
  },
  "language_info": {
   "codemirror_mode": {
    "name": "ipython",
    "version": 3
   },
   "file_extension": ".py",
   "mimetype": "text/x-python",
   "name": "python",
   "nbconvert_exporter": "python",
   "pygments_lexer": "ipython3",
   "version": "3.8.3"
  }
 },
 "nbformat": 4,
 "nbformat_minor": 4
}
